{
  "metadata": {
    "kernelspec": {
      "name": "python",
      "display_name": "Python (Pyodide)",
      "language": "python"
    },
    "language_info": {
      "codemirror_mode": {
        "name": "python",
        "version": 3
      },
      "file_extension": ".py",
      "mimetype": "text/x-python",
      "name": "python",
      "nbconvert_exporter": "python",
      "pygments_lexer": "ipython3",
      "version": "3.8"
    }
  },
  "nbformat_minor": 4,
  "nbformat": 4,
  "cells": [
    {
      "cell_type": "markdown",
      "source": "# Herramientas y Ecosistema de la Ciencia de Datos",
      "metadata": {}
    },
    {
      "cell_type": "markdown",
      "source": "## Ejercicio 3: Crear una celda de Markdown para una introducción\n“En este cuaderno, se resumen las herramientas y el ecosistema de la ciencia de datos.”",
      "metadata": {}
    },
    {
      "cell_type": "markdown",
      "source": "## Ejercicio 4: Crear una celda de Markdown para enumerar los lenguajes de la ciencia de datos",
      "metadata": {}
    },
    {
      "cell_type": "markdown",
      "source": "Algunos de los lenguajes populares que usan los científicos de datos son:\n1. Python\n2. R\n3. SQL\n4. Julia\n5. Scala",
      "metadata": {}
    },
    {
      "cell_type": "markdown",
      "source": "## Ejercicio 5: Crear una celda de Markdown para enumerar las bibliotecas de ciencia de datos",
      "metadata": {}
    },
    {
      "cell_type": "markdown",
      "source": "Bibliotecas mas utilizadas por los cientificos de datos:\n1. Pandas\n2. NumPy\n3. Matplotlib\n4. Scikit-learn\n5. TensorFlow",
      "metadata": {}
    },
    {
      "cell_type": "markdown",
      "source": "## Ejercicio 6: Crear una celda de Markdown con una tabla de herramientas de ciencia de datos",
      "metadata": {}
    },
    {
      "cell_type": "markdown",
      "source": "| Data Science Tools |\n|--------------------|\n| Jupyter Notebooks   |\n| RStudio            |\n| Apache Spark       |",
      "metadata": {}
    },
    {
      "cell_type": "markdown",
      "source": "## Ejercicio 7: Crear una celda de Markdown que presente ejemplos de expresiones aritméticas",
      "metadata": {}
    },
    {
      "cell_type": "markdown",
      "source": "### A continuación se muestran algunos ejemplos de cómo evaluar expresiones aritméticas en Python",
      "metadata": {}
    },
    {
      "cell_type": "code",
      "source": "#Suma:\n5 + 3",
      "metadata": {
        "trusted": true
      },
      "outputs": [
        {
          "execution_count": 6,
          "output_type": "execute_result",
          "data": {
            "text/plain": "8"
          },
          "metadata": {}
        }
      ],
      "execution_count": 6
    },
    {
      "cell_type": "code",
      "source": "#Resta:\n4 - 1",
      "metadata": {
        "trusted": true
      },
      "outputs": [
        {
          "execution_count": 7,
          "output_type": "execute_result",
          "data": {
            "text/plain": "3"
          },
          "metadata": {}
        }
      ],
      "execution_count": 7
    },
    {
      "cell_type": "markdown",
      "source": "## Ejercicio 8: Crear una celda de código para multiplicar y sumar números",
      "metadata": {}
    },
    {
      "cell_type": "code",
      "source": "# Esta es una expresión aritmética simple para multiplicar y luego sumar números enteros\n(3 * 4) + 5",
      "metadata": {
        "trusted": true
      },
      "outputs": [
        {
          "execution_count": 8,
          "output_type": "execute_result",
          "data": {
            "text/plain": "17"
          },
          "metadata": {}
        }
      ],
      "execution_count": 8
    },
    {
      "cell_type": "markdown",
      "source": "## Ejercicio 9: Crear una celda de código para convertir minutos a horas",
      "metadata": {}
    },
    {
      "cell_type": "code",
      "source": "# Esta operación convertira 200 minutos a horas dividiendo entre 60\n200 / 60",
      "metadata": {
        "trusted": true
      },
      "outputs": [
        {
          "execution_count": 9,
          "output_type": "execute_result",
          "data": {
            "text/plain": "3.3333333333333335"
          },
          "metadata": {}
        }
      ],
      "execution_count": 9
    },
    {
      "cell_type": "markdown",
      "source": "## Ejercicio 10: Insertar una celda de Markdown para enumerar los objetivos",
      "metadata": {}
    },
    {
      "cell_type": "markdown",
      "source": "**Objetivos:**\n- Enumerar lenguajes populares para la Ciencia de Datos\n- Describir bibliotecas comunes utilizadas por los Científicos de Datos\n- Demostrar expresiones aritméticas en Python\n- Crear tablas y listas en markdown",
      "metadata": {}
    },
    {
      "cell_type": "markdown",
      "source": "## Ejercicio 11: Crear una celda de Markdown para indicar el nombre del autor",
      "metadata": {}
    },
    {
      "cell_type": "markdown",
      "source": "## Autor\n### José Bravo Castillo",
      "metadata": {}
    },
    {
      "cell_type": "code",
      "source": "",
      "metadata": {
        "trusted": true
      },
      "outputs": [],
      "execution_count": null
    }
  ]
}